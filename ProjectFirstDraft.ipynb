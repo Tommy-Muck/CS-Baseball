{
 "cells": [
  {
   "cell_type": "code",
   "execution_count": 9,
   "metadata": {},
   "outputs": [
    {
     "name": "stdout",
     "output_type": "stream",
     "text": [
      "1. Query all teams\n",
      "('Arizona Diamondbacks',)\n",
      "('Atlanta Braves',)\n",
      "('Baltimore Orioles',)\n",
      "('Boston Red Sox',)\n",
      "('Chicago Cubs',)\n",
      "('Cincinnati Reds',)\n",
      "('Cleveland Indians',)\n",
      "('Colorado Rockies',)\n",
      "('Chicago White Sox',)\n",
      "('Detroit Tigers',)\n",
      "('Houston Astros',)\n",
      "('Kanses City Royals',)\n",
      "('LA Angels',)\n",
      "('Los Angeles Dodgers',)\n",
      "('Miami Marlins',)\n",
      "('Milwaukee Brewers',)\n",
      "('Minnesota Twins',)\n",
      "('New York Mets',)\n",
      "('New York Yankees',)\n",
      "('Oakland Athletics',)\n",
      "('Philadelphia Phillies',)\n",
      "('Pittsburgh Pirates',)\n",
      "('San Diego Padres',)\n",
      "('Seattle Mariners',)\n",
      "('San Francisco Giants',)\n",
      "('St Louis Cardinals',)\n",
      "('Tampa Bay Rays',)\n",
      "('Texas Rangers',)\n",
      "('Toronto Blue Jays',)\n",
      "('Washington Nationals',)\n"
     ]
    }
   ],
   "source": [
    "import sqlite3\n",
    "from sqlite3 import Error\n",
    " \n",
    " \n",
    "def create_connection(dbfile):\n",
    "    \"\"\" create a database connection to the SQLite database\n",
    "        specified by the db_file\n",
    "    :param db_file: database file\n",
    "    :return: Connection object or None\n",
    "    \"\"\"\n",
    "    try:\n",
    "        conn = sqlite3.connect(dbfile)\n",
    "        return conn\n",
    "    except Error as e:\n",
    "        print(e)\n",
    " \n",
    "    return None\n",
    " \n",
    " \n",
    "def select_all_teams(conn):\n",
    "    \"\"\"\n",
    "    Query all rows in the tasks table\n",
    "    :param conn: the Connection object\n",
    "    :return:\n",
    "    \"\"\"\n",
    "    cur = conn.cursor()\n",
    "    cur.execute(\"SELECT TEAM_NAME FROM Team\")\n",
    " \n",
    "    rows = cur.fetchall()\n",
    " \n",
    "    for row in rows:\n",
    "        print(row)\n",
    "\n",
    "def main():\n",
    "    database = \"c:/Users/tommc/Documents/University/CSProject/db/baseball.db\"\n",
    " \n",
    "    # create a database connection\n",
    "    conn = create_connection(database)\n",
    "    with conn:\n",
    "        print(\"1. Query all teams\")\n",
    "        select_all_teams(conn)\n",
    "        \n",
    " \n",
    "if __name__ == '__main__':\n",
    "    main()"
   ]
  },
  {
   "cell_type": "code",
   "execution_count": null,
   "metadata": {
    "collapsed": true
   },
   "outputs": [],
   "source": [
    "\n"
   ]
  }
 ],
 "metadata": {
  "kernelspec": {
   "display_name": "Python 3",
   "language": "python",
   "name": "python3"
  },
  "language_info": {
   "codemirror_mode": {
    "name": "ipython",
    "version": 3
   },
   "file_extension": ".py",
   "mimetype": "text/x-python",
   "name": "python",
   "nbconvert_exporter": "python",
   "pygments_lexer": "ipython3",
   "version": "3.6.3"
  }
 },
 "nbformat": 4,
 "nbformat_minor": 2
}
