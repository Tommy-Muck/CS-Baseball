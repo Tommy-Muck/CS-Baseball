{
 "cells": [
  {
   "cell_type": "code",
   "execution_count": 91,
   "metadata": {},
   "outputs": [
    {
     "name": "stdout",
     "output_type": "stream",
     "text": [
      "[[ 0.05        0.15        0.19753086  0.34135802  0.42592593]\n",
      " [ 0.05802469  0.17777778  0.24382716  0.28950617  0.42236025]\n",
      " [ 0.05740741  0.15740741  0.2962963   0.35        0.54938272]\n",
      " [ 0.04259259  0.17962963  0.2191358   0.33703704  0.57407407]\n",
      " [ 0.03765432  0.12222222  0.22530864  0.4191358   0.63975155]\n",
      " [ 0.05987654  0.16666667  0.2345679   0.27654321  0.41975309]\n",
      " [ 0.04197531  0.17037037  0.26234568  0.35217391  0.58385093]\n",
      " [ 0.03950617  0.13703704  0.2037037   0.29382716  0.46296296]\n",
      " [ 0.05246914  0.11666667  0.22530864  0.32839506  0.48148148]\n",
      " [ 0.05432099  0.17222222  0.27777778  0.32173913  0.53416149]\n",
      " [ 0.03395062  0.09444444  0.21604938  0.37160494  0.51851852]\n",
      " [ 0.04444444  0.15925926  0.27469136  0.41049383  0.5       ]\n",
      " [ 0.05493827  0.14444444  0.30246914  0.36728395  0.45679012]\n",
      " [ 0.05308642  0.17037037  0.29012346  0.39753086  0.5617284 ]\n",
      " [ 0.04259259  0.11481481  0.23765432  0.30679012  0.49068323]\n",
      " [ 0.05123457  0.13703704  0.25308642  0.29382716  0.45061728]\n",
      " [ 0.04074074  0.12222222  0.21604938  0.35864198  0.36419753]\n",
      " [ 0.04567901  0.13703704  0.24382716  0.38888889  0.53703704]\n",
      " [ 0.05864198  0.15740741  0.25925926  0.37592593  0.51851852]\n",
      " [ 0.05802469  0.17777778  0.27160494  0.29382716  0.42592593]\n",
      " [ 0.05        0.13518519  0.22530864  0.27222222  0.4382716 ]\n",
      " [ 0.04876543  0.17407407  0.27160494  0.42345679  0.48447205]\n",
      " [ 0.04691358  0.14074074  0.23765432  0.31975309  0.41975309]\n",
      " [ 0.0462963   0.13148148  0.26851852  0.32839506  0.5308642 ]\n",
      " [ 0.05802469  0.14074074  0.27160494  0.36296296  0.53703704]\n",
      " [ 0.05432099  0.17962963  0.27777778  0.43209877  0.5308642 ]\n",
      " [ 0.05555556  0.16932515  0.23765432  0.34567901  0.41975309]\n",
      " [ 0.05740741  0.16748466  0.20679012  0.38024691  0.58641975]\n",
      " [ 0.04506173  0.13703704  0.25617284  0.40185185  0.54938272]\n",
      " [ 0.06049383  0.15925926  0.2962963   0.35864198  0.58641975]]\n"
     ]
    }
   ],
   "source": [
    "#This block is copied over from worksheet \"03.12.18 - playing around with python\"\n",
    "\n",
    "import sqlite3\n",
    "import numpy as np\n",
    "import pandas as pd\n",
    "import numpy as np\n",
    "from sklearn import svm\n",
    "\n",
    "import matplotlib.pyplot as plt\n",
    "import seaborn as sns; sns.set(font_scale=1.2)\n",
    "\n",
    "# Allows charts to appear in the notebook\n",
    "%matplotlib inline\n",
    "\n",
    "import pickle\n",
    "\n",
    "\n",
    "#Connection to the local database\n",
    "database = \"c:/Users/tommc/Documents/University/CSProject/db/baseball.db\"\n",
    "\n",
    "#sqlite connection function\n",
    "conn = sqlite3.connect(database)\n",
    "\n",
    "#c is now what we use to pass commands to the database\n",
    "c = conn.cursor()\n",
    "#an example of a command. \n",
    "#execute docs: https://docs.python.org/2/library/sqlite3.html#sqlite3.Cursor.execute\n",
    "#This is pulling out the team name as the overall win percentage for each season\n",
    "c.execute(\"SELECT TEAM_ID, TOTAL_WIN_PERCENT_2012, TOTAL_WIN_PERCENT_2013, TOTAL_WIN_PERCENT_2014, TOTAL_WIN_PERCENT_2015, TOTAL_WIN_PERCENT_2016 FROM Team\")\n",
    "\n",
    "#fetchall: https://docs.python.org/2/library/sqlite3.html#sqlite3.Cursor.fetchall\n",
    "teamData = c.fetchall()\n",
    "\n",
    "#taking the data from the execute and popping it into an array for svm use.\n",
    "A1 = np.array(teamData)\n",
    "\n",
    "#The same as A1 just with the team names chopped off\n",
    "B1 = np.delete(A1, 0, 1)\n",
    "\n",
    "#Just the team names\n",
    "B2 = A1[:,0]\n",
    "\n",
    "#Convert the strings into floats, ready for some MATH MAGIC\n",
    "C1 = B1.astype(np.float)\n",
    "\n",
    "#2012 data 1/5th \n",
    "C1[:,0] *= 0.1\n",
    "#2013 data 2/5th \n",
    "C1[:,1] *= 0.3\n",
    "#2014 data 3/5th \n",
    "C1[:,2] *= 0.5\n",
    "#2015 data 4/5th \n",
    "C1[:,3] *= 0.7\n",
    "#2016 data is unchanged \n",
    "\n",
    "\n",
    "#Getting the teams back\n",
    "D1 = np.column_stack((B2,C1))\n",
    "\n",
    "print(C1)"
   ]
  },
  {
   "cell_type": "code",
   "execution_count": 92,
   "metadata": {},
   "outputs": [
    {
     "data": {
      "text/plain": [
       "['Weighted Wins 2012',\n",
       " 'Weighted Wins 2013',\n",
       " 'Weighted Wins 2014',\n",
       " 'Weighted Wins 2015',\n",
       " 'Weighted Wins 2016']"
      ]
     },
     "execution_count": 92,
     "metadata": {},
     "output_type": "execute_result"
    }
   ],
   "source": [
    "# Feature names\n",
    "playerFeatures = [\"Weighted Wins 2012\", \"Weighted Wins 2013\", \"Weighted Wins 2014\", \"Weighted Wins 2015\", \"Weighted Wins 2016\"]\n",
    "playerFeatures"
   ]
  },
  {
   "cell_type": "code",
   "execution_count": 93,
   "metadata": {
    "collapsed": true
   },
   "outputs": [],
   "source": [
    "#Made 2016 playoffs?\n",
    "madePlayoffs = [\"Missed\", \"Missed\", \"Playoffs\", \"Playoffs\", \"Playoffs\", \"Missed\", \"Playoffs\", \"Missed\", \"Missed\", \"Missed\", \"Missed\", \"Missed\", \"Missed\", \"Playoffs\", \"Missed\", \"Missed\", \"Missed\", \"Playoffs\", \"Missed\", \"Missed\", \"Missed\", \"Missed\", \"Missed\", \"Missed\", \"Playoffs\", \"Missed\", \"Missed\", \"Playoffs\", \"Playoffs\", \"Playoffs\"]\n",
    "\n",
    "#I'll not be doing this manually when this expands, but I am for now"
   ]
  },
  {
   "cell_type": "code",
   "execution_count": 94,
   "metadata": {
    "collapsed": true
   },
   "outputs": [],
   "source": [
    "#Putting the playoff info onto the \"right hand\" side of D1\n",
    "testData = np.column_stack((D1,madePlayoffs))\n",
    "\n",
    "#The same thing but without team names\n",
    "noNameTestData = testData[:,1:]\n"
   ]
  },
  {
   "cell_type": "code",
   "execution_count": 95,
   "metadata": {
    "collapsed": true
   },
   "outputs": [],
   "source": [
    "#Name of the Variables\n",
    "headers = [\"Team\", \"2012\", \"2013\", \"2014\", \"2015\", \"2016\", \"Playoffs?\"]\n",
    "#Putting it all together\n",
    "testDataHeaders = np.vstack((headers,testData))"
   ]
  },
  {
   "cell_type": "code",
   "execution_count": 96,
   "metadata": {
    "collapsed": true
   },
   "outputs": [],
   "source": [
    "#making a pandas data frame with team name, year etc\n",
    "df = pd.DataFrame(noNameTestData, index=B2, columns=[\"2012\", \"2013\", \"2014\", \"2015\", \"2016\", \"Playoffs?\"])\n",
    "\n",
    "#This one just has the numbers and the class (the playoffs)\n",
    "df2 = pd.DataFrame(C1, columns=[\"2012\", \"2013\", \"2014\", \"2015\", \"2016\"])"
   ]
  },
  {
   "cell_type": "code",
   "execution_count": 97,
   "metadata": {},
   "outputs": [
    {
     "name": "stdout",
     "output_type": "stream",
     "text": [
      "        2012      2013      2014      2015      2016\n",
      "0   0.050000  0.150000  0.197531  0.341358  0.425926\n",
      "1   0.058025  0.177778  0.243827  0.289506  0.422360\n",
      "2   0.057407  0.157407  0.296296  0.350000  0.549383\n",
      "3   0.042593  0.179630  0.219136  0.337037  0.574074\n",
      "4   0.037654  0.122222  0.225309  0.419136  0.639752\n",
      "5   0.059877  0.166667  0.234568  0.276543  0.419753\n",
      "6   0.041975  0.170370  0.262346  0.352174  0.583851\n",
      "7   0.039506  0.137037  0.203704  0.293827  0.462963\n",
      "8   0.052469  0.116667  0.225309  0.328395  0.481481\n",
      "9   0.054321  0.172222  0.277778  0.321739  0.534161\n",
      "10  0.033951  0.094444  0.216049  0.371605  0.518519\n",
      "11  0.044444  0.159259  0.274691  0.410494  0.500000\n",
      "12  0.054938  0.144444  0.302469  0.367284  0.456790\n",
      "13  0.053086  0.170370  0.290123  0.397531  0.561728\n",
      "14  0.042593  0.114815  0.237654  0.306790  0.490683\n",
      "15  0.051235  0.137037  0.253086  0.293827  0.450617\n",
      "16  0.040741  0.122222  0.216049  0.358642  0.364198\n",
      "17  0.045679  0.137037  0.243827  0.388889  0.537037\n",
      "18  0.058642  0.157407  0.259259  0.375926  0.518519\n",
      "19  0.058025  0.177778  0.271605  0.293827  0.425926\n",
      "20  0.050000  0.135185  0.225309  0.272222  0.438272\n",
      "21  0.048765  0.174074  0.271605  0.423457  0.484472\n",
      "22  0.046914  0.140741  0.237654  0.319753  0.419753\n",
      "23  0.046296  0.131481  0.268519  0.328395  0.530864\n",
      "24  0.058025  0.140741  0.271605  0.362963  0.537037\n",
      "25  0.054321  0.179630  0.277778  0.432099  0.530864\n",
      "26  0.055556  0.169325  0.237654  0.345679  0.419753\n",
      "27  0.057407  0.167485  0.206790  0.380247  0.586420\n",
      "28  0.045062  0.137037  0.256173  0.401852  0.549383\n",
      "29  0.060494  0.159259  0.296296  0.358642  0.586420\n"
     ]
    }
   ],
   "source": [
    "print(df2)"
   ]
  },
  {
   "cell_type": "code",
   "execution_count": 98,
   "metadata": {},
   "outputs": [
    {
     "name": "stdout",
     "output_type": "stream",
     "text": [
      "[ 0.  0.  1.  1.  1.  0.  1.  0.  0.  0.  0.  0.  0.  1.  0.  0.  0.  1.\n",
      "  0.  0.  0.  0.  0.  0.  1.  0.  0.  1.  1.  1.]\n",
      "[[ 0.05        0.15        0.19753086  0.34135802  0.42592593  0.        ]\n",
      " [ 0.05802469  0.17777778  0.24382716  0.28950617  0.42236025  0.        ]\n",
      " [ 0.05740741  0.15740741  0.2962963   0.35        0.54938272  1.        ]\n",
      " [ 0.04259259  0.17962963  0.2191358   0.33703704  0.57407407  1.        ]\n",
      " [ 0.03765432  0.12222222  0.22530864  0.4191358   0.63975155  1.        ]\n",
      " [ 0.05987654  0.16666667  0.2345679   0.27654321  0.41975309  0.        ]\n",
      " [ 0.04197531  0.17037037  0.26234568  0.35217391  0.58385093  1.        ]\n",
      " [ 0.03950617  0.13703704  0.2037037   0.29382716  0.46296296  0.        ]\n",
      " [ 0.05246914  0.11666667  0.22530864  0.32839506  0.48148148  0.        ]\n",
      " [ 0.05432099  0.17222222  0.27777778  0.32173913  0.53416149  0.        ]\n",
      " [ 0.03395062  0.09444444  0.21604938  0.37160494  0.51851852  0.        ]\n",
      " [ 0.04444444  0.15925926  0.27469136  0.41049383  0.5         0.        ]\n",
      " [ 0.05493827  0.14444444  0.30246914  0.36728395  0.45679012  0.        ]\n",
      " [ 0.05308642  0.17037037  0.29012346  0.39753086  0.5617284   1.        ]\n",
      " [ 0.04259259  0.11481481  0.23765432  0.30679012  0.49068323  0.        ]\n",
      " [ 0.05123457  0.13703704  0.25308642  0.29382716  0.45061728  0.        ]\n",
      " [ 0.04074074  0.12222222  0.21604938  0.35864198  0.36419753  0.        ]\n",
      " [ 0.04567901  0.13703704  0.24382716  0.38888889  0.53703704  1.        ]\n",
      " [ 0.05864198  0.15740741  0.25925926  0.37592593  0.51851852  0.        ]\n",
      " [ 0.05802469  0.17777778  0.27160494  0.29382716  0.42592593  0.        ]\n",
      " [ 0.05        0.13518519  0.22530864  0.27222222  0.4382716   0.        ]\n",
      " [ 0.04876543  0.17407407  0.27160494  0.42345679  0.48447205  0.        ]\n",
      " [ 0.04691358  0.14074074  0.23765432  0.31975309  0.41975309  0.        ]\n",
      " [ 0.0462963   0.13148148  0.26851852  0.32839506  0.5308642   0.        ]\n",
      " [ 0.05802469  0.14074074  0.27160494  0.36296296  0.53703704  1.        ]\n",
      " [ 0.05432099  0.17962963  0.27777778  0.43209877  0.5308642   0.        ]\n",
      " [ 0.05555556  0.16932515  0.23765432  0.34567901  0.41975309  0.        ]\n",
      " [ 0.05740741  0.16748466  0.20679012  0.38024691  0.58641975  1.        ]\n",
      " [ 0.04506173  0.13703704  0.25617284  0.40185185  0.54938272  1.        ]\n",
      " [ 0.06049383  0.15925926  0.2962963   0.35864198  0.58641975  1.        ]]\n"
     ]
    }
   ],
   "source": [
    "#Converting the Playoffs/Missed array into integers for the SVM. 1 for playoffs, 0 for missed.\n",
    "\n",
    "#temporary array\n",
    "tempPlayoffs = madePlayoffs\n",
    "\n",
    "#1 if 'Playoffs' appear, 0 otherwise. Bit of a bodge but it works.\n",
    "tempIntPlayoffs = np.char.count(tempPlayoffs,'Playoffs')\n",
    "intPlayoffs = tempIntPlayoffs.astype(np.float)\n",
    "\n",
    "print(intPlayoffs) \n",
    "\n",
    "DataForClf = np.column_stack((C1, intPlayoffs))\n",
    "print(DataForClf)"
   ]
  },
  {
   "cell_type": "code",
   "execution_count": 99,
   "metadata": {},
   "outputs": [
    {
     "data": {
      "text/plain": [
       "GridSearchCV(cv=5, error_score='raise',\n",
       "       estimator=SVC(C=1.0, cache_size=200, class_weight=None, coef0=0.0,\n",
       "  decision_function_shape='ovr', degree=3, gamma=1, kernel='rbf',\n",
       "  max_iter=-1, probability=False, random_state=None, shrinking=True,\n",
       "  tol=0.001, verbose=False),\n",
       "       fit_params=None, iid=True, n_jobs=1,\n",
       "       param_grid={'kernel': ('linear', 'rbf'), 'C': [0.1, 10]},\n",
       "       pre_dispatch='2*n_jobs', refit=True, return_train_score='warn',\n",
       "       scoring=None, verbose=0)"
      ]
     },
     "execution_count": 99,
     "metadata": {},
     "output_type": "execute_result"
    }
   ],
   "source": [
    "from sklearn import svm, datasets\n",
    "from sklearn.model_selection import GridSearchCV\n",
    "\n",
    "#Use the parameters to find out the best kernel and C value\n",
    "parameters = {'kernel':('linear', 'rbf'), 'C':[0.1, 10]}\n",
    "#doing a SVM!\n",
    "supportVC = svm.SVC(gamma=1)\n",
    "classifier = GridSearchCV(supportVC, parameters, cv=5)\n",
    "#The data is held in float form in C1, the classes of each is held in intPlayoffs array\n",
    "classifier.fit(C1, intPlayoffs)\n",
    "\n"
   ]
  },
  {
   "cell_type": "code",
   "execution_count": 100,
   "metadata": {},
   "outputs": [
    {
     "name": "stdout",
     "output_type": "stream",
     "text": [
      "[[ 0.05        0.11851852  0.24382716  0.29814815  0.57407407]\n",
      " [ 0.05925926  0.1462963   0.20679012  0.29565217  0.44444444]\n",
      " [ 0.05246914  0.17777778  0.25        0.3845679   0.46296296]\n",
      " [ 0.05987654  0.13148148  0.24074074  0.40185185  0.57407407]\n",
      " [ 0.04074074  0.13518519  0.29938272  0.44782609  0.56790123]\n",
      " [ 0.05555556  0.14074074  0.19753086  0.29382716  0.41975309]\n",
      " [ 0.05679012  0.15740741  0.2515528   0.40869565  0.62962963]\n",
      " [ 0.04567901  0.12222222  0.20987654  0.32407407  0.53703704]\n",
      " [ 0.03888889  0.13518519  0.2345679   0.33703704  0.41358025]\n",
      " [ 0.05740741  0.16666667  0.22981366  0.37391304  0.39506173]\n",
      " [ 0.03148148  0.12962963  0.2654321   0.36296296  0.62345679]\n",
      " [ 0.05308642  0.16481481  0.29320988  0.35        0.49382716]\n",
      " [ 0.04814815  0.18148148  0.26234568  0.31975309  0.49382716]\n",
      " [ 0.05679012  0.17407407  0.28395062  0.39320988  0.64197531]\n",
      " [ 0.0382716   0.14259259  0.2191358   0.34347826  0.47530864]\n",
      " [ 0.04567901  0.15185185  0.20987654  0.3154321   0.5308642 ]\n",
      " [ 0.04074074  0.12962963  0.25617284  0.25493827  0.52469136]\n",
      " [ 0.04567901  0.1462963   0.27777778  0.37592593  0.43209877]\n",
      " [ 0.05246914  0.15555556  0.26851852  0.36296296  0.5617284 ]\n",
      " [ 0.05925926  0.16296296  0.20987654  0.29814815  0.46296296]\n",
      " [ 0.04506173  0.13518519  0.19444444  0.30679012  0.40740741]\n",
      " [ 0.05802469  0.16296296  0.30246914  0.33913043  0.46296296]\n",
      " [ 0.04691358  0.14259259  0.22839506  0.29382716  0.4382716 ]\n",
      " [ 0.04382716  0.16111111  0.2345679   0.37160494  0.48148148]\n",
      " [ 0.04691358  0.16296296  0.25925926  0.37592593  0.39506173]\n",
      " [ 0.05987654  0.16666667  0.30864198  0.37160494  0.51234568]\n",
      " [ 0.05644172  0.14259259  0.24691358  0.29382716  0.49382716]\n",
      " [ 0.05582822  0.12407407  0.27160494  0.41049383  0.48148148]\n",
      " [ 0.04567901  0.1537037   0.28703704  0.3845679   0.4691358 ]\n",
      " [ 0.05308642  0.17777778  0.25617284  0.41049383  0.59876543]]\n"
     ]
    }
   ],
   "source": [
    "#Copied from up top. This is the 2017 testing data.\n",
    "\n",
    "d = conn.cursor()\n",
    "#an example of a command. \n",
    "#execute docs: https://docs.python.org/2/library/sqlite3.html#sqlite3.Cursor.execute\n",
    "#This is pulling out the team name as the overall win percentage for each season\n",
    "d.execute(\"SELECT TOTAL_WIN_PERCENT_2013, TOTAL_WIN_PERCENT_2014, TOTAL_WIN_PERCENT_2015, TOTAL_WIN_PERCENT_2016, TOTAL_WIN_PERCENT_2017 FROM Team\")\n",
    "\n",
    "#fetchall: https://docs.python.org/2/library/sqlite3.html#sqlite3.Cursor.fetchall\n",
    "teamData2017 = d.fetchall()\n",
    "\n",
    "#taking the data from the execute and popping it into an array for svm use.\n",
    "A1_2017 = np.array(teamData2017)\n",
    "\n",
    "#float like a butterfly, from an array called B\n",
    "C1_2017 = A1_2017.astype(np.float)\n",
    "\n",
    "#2012 data 1/5th \n",
    "C1_2017[:,0] *= 0.1\n",
    "#2013 data 2/5th \n",
    "C1_2017[:,1] *= 0.3\n",
    "#2014 data 3/5th \n",
    "C1_2017[:,2] *= 0.5\n",
    "#2015 data 4/5th \n",
    "C1_2017[:,3] *= 0.7\n",
    "\n",
    "\n",
    "print(C1_2017)"
   ]
  },
  {
   "cell_type": "code",
   "execution_count": 101,
   "metadata": {
    "scrolled": true
   },
   "outputs": [
    {
     "name": "stdout",
     "output_type": "stream",
     "text": [
      "[ 1.  0.  0.  1.  1.  0.  1.  0.  0.  0.  1.  0.  0.  1.  0.  0.  0.  0.\n",
      "  1.  0.  0.  0.  0.  0.  0.  0.  0.  0.  0.  1.]\n"
     ]
    }
   ],
   "source": [
    "result1 = classifier.predict(C1_2017)\n",
    "print(result1)"
   ]
  },
  {
   "cell_type": "markdown",
   "metadata": {},
   "source": [
    "# Did it \"work\"? "
   ]
  },
  {
   "cell_type": "code",
   "execution_count": 103,
   "metadata": {},
   "outputs": [
    {
     "name": "stdout",
     "output_type": "stream",
     "text": [
      "[ 0  3  4  6 10 13 18 29]\n",
      "[ 1  4  5  7 11 14 19 30]\n",
      "[('ARI',), ('BOS',), ('CHC',), ('CLE',), ('HOU',), ('LAD',), ('NYY',), ('WSH',)]\n"
     ]
    }
   ],
   "source": [
    "#Get the indices of the 1's in the result\n",
    "indicesReturn, = np.where(result1 == 1)\n",
    "print(indicesReturn)\n",
    "\n",
    "dbIndicesReturn = indicesReturn + 1\n",
    "print(dbIndicesReturn)\n",
    "\n",
    "\n",
    "#Let's grab the teams out of the database.\n",
    "cc = conn.cursor()\n",
    "\n",
    "#This is pulling out the team name for the teams predicted to make the playoffs\n",
    "cc.execute(\"SELECT TEAM_ID FROM Team WHERE rowid IN (1,4,5,7,11,14,19,30);\")\n",
    "  \n",
    "#fetchall: https://docs.python.org/2/library/sqlite3.html#sqlite3.Cursor.fetchall\n",
    "teamIDs = cc.fetchall()\n",
    "\n",
    "print(teamIDs)"
   ]
  },
  {
   "cell_type": "markdown",
   "metadata": {},
   "source": [
    "With total win %\n",
    "\n",
    "So we have predicted the following teams qualified for the 2017 post season:\n",
    "\n",
    "- Houston Astros\n",
    "- Cleveland Indians\n",
    "- LA Dodgers\n",
    "- Washington Nationals\n",
    "\n",
    "The actual teams who qualified for the 2017 post season were:\n",
    "\n",
    "- Arizona Diamondbacks\n",
    "- Colorado Rockies\n",
    "- Chicago Cubs\n",
    "- LA Dodgers\n",
    "- Washington Nationals\n",
    "- Cleveland Indians\n",
    "- NY Yankees\n",
    "- Minnesota Twins\n",
    "- Houston Astros\n",
    "- Boston Red Sox\n",
    "\n",
    "predicted 4/10, no false positives"
   ]
  },
  {
   "cell_type": "code",
   "execution_count": 15,
   "metadata": {},
   "outputs": [
    {
     "data": {
      "text/plain": [
       "<seaborn.axisgrid.FacetGrid at 0x2497d0635c0>"
      ]
     },
     "execution_count": 15,
     "metadata": {},
     "output_type": "execute_result"
    },
    {
     "data": {
      "image/png": "[encoded data removed]",
      "text/plain": [
       "<matplotlib.figure.Figure at 0x2497d063160>"
      ]
     },
     "metadata": {},
     "output_type": "display_data"
    }
   ],
   "source": [
    "#This looks nice but is useless\n",
    "\n",
    "# Plot the hyperplane\n",
    "df = df.apply(pd.to_numeric, errors='ignore')\n",
    "\n",
    "sns.lmplot('2015', '2016', data=df, hue='Playoffs?', palette='Set1', fit_reg=False, scatter_kws={\"s\": 70})\n"
   ]
  },
  {
   "cell_type": "code",
   "execution_count": 105,
   "metadata": {
    "collapsed": true
   },
   "outputs": [],
   "source": [
    "#Create a classifier function\n",
    "def Play_or_Miss(twelve):\n",
    "    if(classifier.predict([twelve]))==0:\n",
    "        print(0)\n",
    "    else:\n",
    "        print(1)"
   ]
  },
  {
   "cell_type": "code",
   "execution_count": 106,
   "metadata": {
    "scrolled": true
   },
   "outputs": [
    {
     "name": "stdout",
     "output_type": "stream",
     "text": [
      "[0.15247376738686236, 0.05762787772714648, 0.2975886206641239, 0.3053566578780462, 0.3494989125267546]\n",
      "0.029059911600479937 0.15544148141296987 0.010477886655963874 0.27611056458630046 0.8649282926849411\n",
      "0\n"
     ]
    }
   ],
   "source": [
    "#a random array with \"reasonable\" values represent a theoretical season. \n",
    "#I'm pretty sure number of wins isn't uniform, but I'll brush over this for now.\n",
    "\n",
    "randTest = [np.random.uniform(0,0.2), np.random.uniform(0,0.4), np.random.uniform(0,0.6), np.random.uniform(0,0.8), np.random.uniform(0,1)]\n",
    "randTest1 = np.random.uniform(0,0.2)\n",
    "randTest2 = np.random.uniform(0,0.4)\n",
    "randTest3 = np.random.uniform(0,0.6)\n",
    "randTest4 = np.random.uniform(0,0.8)\n",
    "randTest5 = np.random.uniform(0,1)\n",
    "\n",
    "print(randTest)\n",
    "print(randTest1, randTest2, randTest3, randTest4, randTest5)\n",
    "\n",
    "Play_or_Miss(randTest)"
   ]
  }
 ],
 "metadata": {
  "kernelspec": {
   "display_name": "Python 3",
   "language": "python",
   "name": "python3"
  },
  "language_info": {
   "codemirror_mode": {
    "name": "ipython",
    "version": 3
   },
   "file_extension": ".py",
   "mimetype": "text/x-python",
   "name": "python",
   "nbconvert_exporter": "python",
   "pygments_lexer": "ipython3",
   "version": "3.6.3"
  }
 },
 "nbformat": 4,
 "nbformat_minor": 2
}
