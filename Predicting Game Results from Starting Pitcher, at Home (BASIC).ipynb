{
 "cells": [
  {
   "cell_type": "code",
   "execution_count": 105,
   "metadata": {},
   "outputs": [
    {
     "name": "stdout",
     "output_type": "stream",
     "text": [
      "(742, 7)\n"
     ]
    }
   ],
   "source": [
    "#This block is copied over from worksheet \"03.12.18 - playing around with python\"\n",
    "\n",
    "import sqlite3\n",
    "import numpy as np\n",
    "import pandas as pd\n",
    "import numpy as np\n",
    "from sklearn import svm\n",
    "from sklearn import preprocessing\n",
    "\n",
    "import matplotlib.pyplot as plt\n",
    "import seaborn as sns; sns.set(font_scale=1.2)\n",
    "\n",
    "# Allows charts to appear in the notebook\n",
    "%matplotlib inline\n",
    "\n",
    "import pickle\n",
    "\n",
    "\n",
    "#Connection to the local database\n",
    "database = \"c:/Users/tommc/Documents/University/CSProject/db/baseball.db\"\n",
    "\n",
    "#This block creates a dataframe with the important (un-normalised) stats along with both IDs, with the purpose of later merging\n",
    "conn = sqlite3.connect(database)\n",
    "\n",
    "#cc is now what we use to pass commands to the database\n",
    "cc = conn.cursor()\n",
    "\n",
    "#4 things from \n",
    "cc.execute(\"SELECT PLAYERID, WINS_ABOVE_REPLACEMENT, EXPECTED_FIELDING_INDEPENDENT_PITCHING, EARNED_RUN_AVERAGE FROM Pitching2016 INNER JOIN PlayerIDs ON PlayerIDs.ID_FANGRAPHS = Pitching2016.PLAYERID;\")\n",
    "\n",
    "#fetchall: https://docs.python.org/2/library/sqlite3.html#sqlite3.Cursor.fetchall\n",
    "testData = cc.fetchall()\n",
    "\n",
    "#Chuck it in a numpy array in case its needed later\n",
    "A1 = np.array(testData)\n",
    "\n",
    "#making it into a df for ease of operations\n",
    "df2 = pd.DataFrame(testData)\n",
    "df2.columns = [\"ID_RETRO\", \"WAR\", \"eFIP\", \"ERA\"]\n",
    "\n",
    "#Pulling the playerID table\n",
    "ccc = conn.cursor()\n",
    "ccc.execute(\"SELECT * FROM PlayerIDs;\")\n",
    "\n",
    "idData = ccc.fetchall()\n",
    "\n",
    "#Again, making a numpy array and pf\n",
    "A2 = np.array(idData)\n",
    "df3 = pd.DataFrame(idData)\n",
    "df3.columns = [\"ID_FANGRAPHS\", \"ID_RETRO\", \"LAST_NAME\", \"GIVEN_NAME\"]\n",
    "\n",
    "#merging the two tables on retroID\n",
    "df4 = pd.merge(df2, df3, on='ID_RETRO')\n",
    "#Dropping the player names\n",
    "df5 = df4.drop(['ID_RETRO', 'LAST_NAME', 'GIVEN_NAME'], axis=1)\n",
    "\n",
    "print(np.shape(df4))\n",
    "\n"
   ]
  },
  {
   "cell_type": "code",
   "execution_count": 100,
   "metadata": {},
   "outputs": [
    {
     "name": "stdout",
     "output_type": "stream",
     "text": [
      "     HOME_Win ID_FANGRAPHS\n",
      "0           1     volqe001\n",
      "1           0     archc001\n",
      "2           1     lirif001\n",
      "3           0     richg002\n",
      "4           1     tillc001\n",
      "5           0     hillr001\n",
      "6           0     smyld001\n",
      "7           1     hamec001\n",
      "8           0     greiz001\n",
      "9           0     tehej001\n",
      "10          1     igler001\n",
      "11          0     peraw001\n",
      "12          0     rosst001\n",
      "13          0     heana001\n",
      "14          0     klubc001\n",
      "15          0     younc003\n",
      "16          0     tanam001\n",
      "17          0     bassc001\n",
      "18          1     odorj001\n",
      "19          0     perem004\n",
      "20          1     mills001\n",
      "21          0     chenw001\n",
      "22          0     nelsj004\n",
      "23          1     niesj001\n",
      "24          0     shiej002\n",
      "25          1     gally001\n",
      "26          1     carrc003\n",
      "27          1     pinem001\n",
      "28          1     grays001\n",
      "29          1     moorm003\n",
      "...       ...          ...\n",
      "2398        0     skagt001\n",
      "2399        0     rodre004\n",
      "2400        0     shiej002\n",
      "2401        0     volqe001\n",
      "2402        1     sevel001\n",
      "2403        0     iwakh001\n",
      "2404        0     lewic001\n",
      "2405        1     brada001\n",
      "2406        1     blaia001\n",
      "2407        1     adlet001\n",
      "2408        0     hoffj003\n",
      "2409        0     kleip001\n",
      "2410        1     blact002\n",
      "2411        1     wachm001\n",
      "2412        1     roart001\n",
      "2413        1     chacj001\n",
      "2414        0     pricd001\n",
      "2415        0     salec001\n",
      "2416        0     kenni001\n",
      "2417        0     cessl001\n",
      "2418        0     hernf002\n",
      "2419        0     perem004\n",
      "2420        1     kochm001\n",
      "2421        1     tehej001\n",
      "2422        0     stepr002\n",
      "2423        0     marqg001\n",
      "2424        1     eickj001\n",
      "2425        1     moorm003\n",
      "2426        1     waina001\n",
      "2427        1     schem001\n",
      "\n",
      "[2428 rows x 2 columns]\n"
     ]
    }
   ],
   "source": [
    "#This is similar to the block above. It will grab the relevant information out from the Game2016 table\n",
    "\n",
    "#d is now what we use to pass commands to the database\n",
    "d = conn.cursor()\n",
    "\n",
    "#1 represents home win, 0 away win \n",
    "d.execute(\"SELECT HOME_WIN, AWAY_STARTPITCH_ID, HOME_STARTPITCH_ID FROM Game2016;\")\n",
    "\n",
    "#fetchall: https://docs.python.org/2/library/sqlite3.html#sqlite3.Cursor.fetchall\n",
    "pitchByGameData = d.fetchall()\n",
    "\n",
    "#Again, making a numpy array and pf\n",
    "AA1 = np.array(pitchByGameData)\n",
    "df6 = pd.DataFrame(pitchByGameData)\n",
    "df6.columns = [\"HOME_Win\", \"AWAY_STARTPITCH_ID\", \"HOME_STARTPITCH_ID\"]\n",
    "\n",
    "#Dropping the Home starter\n",
    "df7 = df6.drop(['HOME_STARTPITCH_ID'], axis=1)\n",
    "df7.columns = [\"HOME_Win\", \"ID_FANGRAPHS\"]\n",
    "#Same for the Away starter\n",
    "df8 = df6.drop(['AWAY_STARTPITCH_ID'], axis=1)\n",
    "df8.columns = [\"HOME_Win\", \"ID_FANGRAPHS\"]\n",
    "print(df8)"
   ]
  },
  {
   "cell_type": "code",
   "execution_count": 103,
   "metadata": {},
   "outputs": [
    {
     "name": "stdout",
     "output_type": "stream",
     "text": [
      "(2428, 4)\n"
     ]
    }
   ],
   "source": [
    "#In this block we merge what we have together before putting in a usable form\n",
    "\n",
    "dfFINAL = pd.merge(df5, df8, on='ID_FANGRAPHS')\n",
    "\n",
    "#Chuck it in a numpy array\n",
    "unnormPitchPlayerName = np.array(dfFINAL)\n",
    "\n",
    "unnormPitch = np.delete(unnormPitchPlayerName, 3, 1)\n",
    "print(np.shape(unnormPitch))"
   ]
  },
  {
   "cell_type": "code",
   "execution_count": 104,
   "metadata": {},
   "outputs": [
    {
     "name": "stdout",
     "output_type": "stream",
     "text": [
      "(2428, 3)\n"
     ]
    }
   ],
   "source": [
    "#split C1 into three 1D arrays, each named for the stat.\n",
    "\n",
    "wARstr = unnormPitch[:,0]\n",
    "eFIPstr = unnormPitch[:,1]\n",
    "ERAstr = unnormPitch[:,2]\n",
    "\n",
    "wAR = wARstr.astype(np.float)\n",
    "eFIP = eFIPstr.astype(np.float)\n",
    "ERA = ERAstr.astype(np.float)\n",
    "\n",
    "#Getting the wAR stat into the range [0,1] ready for MATH MAGIC\n",
    "minWAR = min(wAR)\n",
    "maxWAR = max(wAR)\n",
    "rangeWAR = maxWAR - minWAR\n",
    "#The lowest value is -1.2. This will need to change for different years\n",
    "#All values are now positive\n",
    "positiveWAR = wAR + 1.2\n",
    "#Make the the values of wAR fall within [0,1]\n",
    "wARZeroOne = positiveWAR / 7.7\n",
    "\n",
    "#Same as the above, but for eFIP\n",
    "minEFIP = min(eFIP)\n",
    "maxEFIP = max(eFIP)\n",
    "rangeEFIP = maxEFIP - minEFIP\n",
    "#The lowest value is 2.28. This will need to change for different years\n",
    "#All values are now non-negative, with smallest value 0.\n",
    "positiveEFIP = eFIP - 2.28\n",
    "#Make the the values of wAR fall within [0,1]\n",
    "eFIPZeroOne = positiveEFIP / 6.31\n",
    "\n",
    "#Once more, with feeling, for ERA\n",
    "minERA = min(ERA)\n",
    "maxERA = max(ERA)\n",
    "rangeERA = maxERA - minERA\n",
    "#The lowest value is 1.06. This will need to change for different years\n",
    "#All values are now non-negative, with smallest value 0.\n",
    "positiveERA = ERA - 1.06\n",
    "#Make the the values of wAR fall within [0,1]\n",
    "eRAZeroOne = positiveERA / 25.94\n",
    "\n",
    "#Home Win column\n",
    "homeWinArray = unnormPitch[:,3]\n",
    "\n",
    "#Put this back into an array\n",
    "normedPitchArray = np.column_stack((wARZeroOne, eFIPZeroOne, eRAZeroOne))\n",
    "\n",
    "#Then back into a df\n",
    "normedPitchDF = pd.DataFrame(normedPitchArray)\n",
    "normedPitchDF.columns = [\"WAR\", \"eFIP\", \"ERA\"]\n",
    "print(np.shape(normedPitchDF))"
   ]
  },
  {
   "cell_type": "code",
   "execution_count": 65,
   "metadata": {},
   "outputs": [
    {
     "data": {
      "text/plain": [
       "GridSearchCV(cv=5, error_score='raise',\n",
       "       estimator=SVC(C=1.0, cache_size=200, class_weight=None, coef0=0.0,\n",
       "  decision_function_shape='ovr', degree=3, gamma=1, kernel='rbf',\n",
       "  max_iter=-1, probability=False, random_state=None, shrinking=True,\n",
       "  tol=0.001, verbose=False),\n",
       "       fit_params=None, iid=True, n_jobs=1,\n",
       "       param_grid={'kernel': ('linear', 'rbf'), 'C': [0.1, 10]},\n",
       "       pre_dispatch='2*n_jobs', refit=True, return_train_score='warn',\n",
       "       scoring=None, verbose=0)"
      ]
     },
     "execution_count": 65,
     "metadata": {},
     "output_type": "execute_result"
    }
   ],
   "source": [
    "from sklearn import svm, datasets\n",
    "from sklearn.model_selection import GridSearchCV\n",
    "\n",
    "#Use the parameters to find out the best kernel and C value\n",
    "parameters = {'kernel':('linear', 'rbf'), 'C':[0.1, 10]}\n",
    "#doing a SVM!\n",
    "supportVC = svm.SVC(gamma=1)\n",
    "classifier = GridSearchCV(supportVC, parameters, cv=5)\n",
    "#The data is held in float form in C1, the classes of each is held in intPlayoffs array\n",
    "classifier.fit(normedPitchArray, homeWinArray)\n",
    "\n"
   ]
  },
  {
   "cell_type": "code",
   "execution_count": 87,
   "metadata": {},
   "outputs": [
    {
     "name": "stdout",
     "output_type": "stream",
     "text": [
      "(755, 4)\n"
     ]
    }
   ],
   "source": [
    "#Getting the 2017 data for testing\n",
    "\n",
    "#ccfc is now what we use to pass commands to the database\n",
    "ccfc = conn.cursor()\n",
    "\n",
    "ccfc.execute(\"SELECT PLAYERID, WINS_ABOVE_REPLACEMENT, EXPECTED_FIELDING_INDEPENDENT_PITCHING, EARNED_RUN_AVERAGE FROM Pitching2017 INNER JOIN PlayerIDs ON PlayerIDs.ID_FANGRAPHS = Pitching2017.PLAYERID;\")\n",
    "\n",
    "#fetchall: https://docs.python.org/2/library/sqlite3.html#sqlite3.Cursor.fetchall\n",
    "gameData2017 = ccfc.fetchall()\n",
    "\n",
    "#Chuck it in a numpy array in case its needed later\n",
    "#formally A1\n",
    "gameData2017Array = np.array(gameData2017)\n",
    "\n",
    "#making it into a df for ease of operations\n",
    "gameData2017Frame = pd.DataFrame(gameData2017)\n",
    "gameData2017Frame.columns = [\"ID_RETRO\", \"WAR\", \"eFIP\", \"ERA\"]\n",
    "\n",
    "#Pulling the playerID table\n",
    "cccy = conn.cursor()\n",
    "cccy.execute(\"SELECT * FROM PlayerIDs;\")\n",
    "\n",
    "playerIDData2017 = cccy.fetchall()\n",
    "\n",
    "#Again, making a numpy array and pf\n",
    "#formallyA2\n",
    "playerIDData2017array = np.array(playerIDData2017)\n",
    "#formally df3\n",
    "playerIDData2017frame = pd.DataFrame(playerIDData2017)\n",
    "playerIDData2017frame.columns = [\"ID_FANGRAPHS\", \"ID_RETRO\", \"LAST_NAME\", \"GIVEN_NAME\"]\n",
    "\n",
    "#merging the two tables on retroID\n",
    "#formally df4\n",
    "mergedID2017 = pd.merge(gameData2017Frame, playerIDData2017frame, on='ID_RETRO')\n",
    "#Dropping the player names\n",
    "#formally df5\n",
    "mergedID2017noName = mergedID2017.drop(['ID_RETRO', 'LAST_NAME', 'GIVEN_NAME'], axis=1)\n",
    "print(np.shape(mergedID2017noName))"
   ]
  },
  {
   "cell_type": "code",
   "execution_count": 106,
   "metadata": {},
   "outputs": [
    {
     "name": "stdout",
     "output_type": "stream",
     "text": [
      "(2430, 2)\n"
     ]
    }
   ],
   "source": [
    "#Get the 2017 data in to test\n",
    "\n",
    "#dc is now what we use to pass commands to the database\n",
    "dc = conn.cursor()\n",
    "\n",
    "#1 represents home win, 0 away win \n",
    "dc.execute(\"SELECT HOME_WIN, AWAY_STARTPITCH_ID, HOME_STARTPITCH_ID FROM Game2017;\")\n",
    "\n",
    "#fetchall: https://docs.python.org/2/library/sqlite3.html#sqlite3.Cursor.fetchall\n",
    "pitchByGameData2017 = dc.fetchall()\n",
    "\n",
    "#Again, making a numpy array and pf\n",
    "#formally AA1\n",
    "pitchArray2017 = np.array(pitchByGameData2017)\n",
    "#formally df6\n",
    "pitchFrame2017 = pd.DataFrame(pitchByGameData2017)\n",
    "pitchFrame2017.columns = [\"HOME_Win\", \"AWAY_STARTPITCH_ID\", \"HOME_STARTPITCH_ID\"]\n",
    "\n",
    "#Dropping the Home starter\n",
    "#formally df7\n",
    "pitchFrame2017away = pitchFrame2017.drop(['HOME_STARTPITCH_ID'], axis=1)\n",
    "pitchFrame2017away.columns = [\"HOME_Win\", \"ID_FANGRAPHS\"]\n",
    "#Same for the Away starter\n",
    "#formally df8\n",
    "pitchFrame2017home = pitchFrame2017.drop(['AWAY_STARTPITCH_ID'], axis=1)\n",
    "pitchFrame2017home.columns = [\"HOME_Win\", \"ID_FANGRAPHS\"]\n",
    "print(np.shape(pitchFrame2017home))"
   ]
  },
  {
   "cell_type": "code",
   "execution_count": 107,
   "metadata": {},
   "outputs": [
    {
     "name": "stdout",
     "output_type": "stream",
     "text": [
      "     HOME_Win ID_FANGRAPHS\n",
      "0           1     greiz001\n",
      "1           1     martc006\n",
      "2           1     archc001\n",
      "3           0     felds001\n",
      "4           1     kersc001\n",
      "5           0     guerj003\n",
      "6           1     syndn001\n",
      "7           1     stras001\n",
      "8           1     gausk001\n",
      "9           1     porcr001\n",
      "10          1     keucd001\n",
      "11          1     sante001\n",
      "12          1     gravk001\n",
      "13          0     darvy001\n",
      "14          0     corbp001\n",
      "15          0     maedk001\n",
      "16          0     daviz001\n",
      "17          0     waina001\n",
      "18          0     quinj001\n",
      "19          1     mccul002\n",
      "20          0     manas001\n",
      "21          0     odorj001\n",
      "22          0     perem004\n",
      "23          1     walkt004\n",
      "24          1     finnb001\n",
      "25          1     hillr001\n",
      "26          1     peraw001\n",
      "27          0     degrj001\n",
      "28          1     roart001\n",
      "29          1     bundd001\n",
      "...       ...          ...\n",
      "2400        1     lestj001\n",
      "2401        0     marqg001\n",
      "2402        1     despo001\n",
      "2403        0     alvah001\n",
      "2404        0     cainm001\n",
      "2405        1     weavl001\n",
      "2406        0     schem001\n",
      "2407        0     nolar001\n",
      "2408        1     pomed001\n",
      "2409        0     klubc001\n",
      "2410        1     junij001\n",
      "2411        0     slega001\n",
      "2412        1     sabac001\n",
      "2413        1     archc001\n",
      "2414        1     casha001\n",
      "2415        0     montm002\n",
      "2416        0     freek001\n",
      "2417        0     urenj001\n",
      "2418        1     piven001\n",
      "2419        1     cuetj001\n",
      "2420        0     flahj002\n",
      "2421        0     gonzg003\n",
      "2422        1     bridp001\n",
      "2423        0     velah001\n",
      "2424        1     tomlj001\n",
      "2425        0     vargj001\n",
      "2426        1     colob001\n",
      "2427        0     montj004\n",
      "2428        1     snelb001\n",
      "2429        0     hamec001\n",
      "\n",
      "[2430 rows x 2 columns]\n"
     ]
    }
   ],
   "source": [
    "#In this block we merge what we have together before putting in a usable form\n",
    "#print(mergedID2017noName)\n",
    "print(pitchFrame2017home)\n",
    "dfFINAL2017 = pd.merge(mergedID2017noName, pitchFrame2017home, on='ID_FANGRAPHS')\n",
    "\n",
    "#Chuck it in a numpy array\n",
    "unnormPitchPlayerName2017 = np.array(dfFINAL2017)\n",
    "\n",
    "unnormPitch2017 = np.delete(unnormPitchPlayerName2017, 3, 1)\n"
   ]
  },
  {
   "cell_type": "code",
   "execution_count": 108,
   "metadata": {},
   "outputs": [
    {
     "name": "stdout",
     "output_type": "stream",
     "text": [
      "(2430, 3)\n"
     ]
    }
   ],
   "source": [
    "#Same as the block above but for the 2017 data\n",
    "#split C1 into three 1D arrays, each named for the stat.\n",
    "\n",
    "wARstr2017 = unnormPitch2017[:,0]\n",
    "eFIPstr2017 = unnormPitch2017[:,1]\n",
    "ERAstr2017 = unnormPitch2017[:,2]\n",
    "\n",
    "wAR2017 = wARstr2017.astype(np.float)\n",
    "eFIP2017 = eFIPstr2017.astype(np.float)\n",
    "ERA2017 = ERAstr2017.astype(np.float)\n",
    "\n",
    "#Getting the wAR stat into the range [0,1] ready for MATH MAGIC\n",
    "minWAR2017 = min(wAR2017)\n",
    "maxWAR2017 = max(wAR2017)\n",
    "rangeWAR2017 = maxWAR2017 - minWAR2017\n",
    "#The lowest value is -1.1. This will need to change for different years\n",
    "#All values are now positive\n",
    "positiveWAR2017 = wAR2017 + 1.1\n",
    "#Make the the values of wAR fall within [0,1]\n",
    "wARZeroOne2017 = positiveWAR2017 / 8.8\n",
    "\n",
    "#Same as the above, but for eFIP\n",
    "minEFIP2017 = min(eFIP2017)\n",
    "maxEFIP2017 = max(eFIP2017)\n",
    "rangeEFIP2017 = maxEFIP2017 - minEFIP2017\n",
    "#The lowest value is 2.48. This will need to change for different years\n",
    "#All values are now non-negative, with smallest value 0.\n",
    "positiveEFIP2017 = eFIP2017 - 2.48\n",
    "#Make the the values of wAR fall within [0,1]\n",
    "eFIPZeroOne2017 = positiveEFIP2017 / 9.35\n",
    "\n",
    "#Once more, with feeling, for ERA\n",
    "minERA2017 = min(ERA2017)\n",
    "maxERA2017 = max(ERA2017)\n",
    "rangeERA2017 = maxERA2017 - minERA2017\n",
    "#The lowest value is 0. This will need to change for different years\n",
    "#All values are now non-negative, with smallest value 0.\n",
    "positiveERA2017 = ERA2017\n",
    "#Make the the values of wAR fall within [0,1]\n",
    "eRAZeroOne2017 = positiveERA2017 / 27\n",
    "\n",
    "#Home Win column\n",
    "homeWinArray2017 = unnormPitch2017[:,3]\n",
    "\n",
    "#Put this back into an array\n",
    "normedPitchArray2017 = np.column_stack((wARZeroOne2017, eFIPZeroOne2017, eRAZeroOne2017))\n",
    "\n",
    "#Then back into a df\n",
    "normedPitchDF2017 = pd.DataFrame(normedPitchArray)\n",
    "normedPitchDF2017.columns = [\"WAR\", \"eFIP\", \"ERA\"]\n",
    "\n",
    "print(np.shape(normedPitchArray2017))"
   ]
  },
  {
   "cell_type": "code",
   "execution_count": 109,
   "metadata": {
    "scrolled": true
   },
   "outputs": [
    {
     "name": "stdout",
     "output_type": "stream",
     "text": [
      "2430\n"
     ]
    }
   ],
   "source": [
    "result1 = classifier.predict(normedPitchArray2017)\n",
    "\n",
    "#chuck it into a numpy \n",
    "outputResults2017 = np.array(result1)\n",
    "print(np.size(outputResults2017))"
   ]
  },
  {
   "cell_type": "markdown",
   "metadata": {},
   "source": [
    "# Did it \"work\"? "
   ]
  },
  {
   "cell_type": "markdown",
   "metadata": {},
   "source": [
    "Reminder:\n",
    "    \n",
    "The above code is for building a model based on using an array of pitching stats to see if the starting pitcher, playing at home, will win the game.\n",
    "    It's absolutely longer than it needs to be, this is because I intend to use this framework to add more features and other things as the project progresses.\n",
    "   \n",
    "   "
   ]
  },
  {
   "cell_type": "code",
   "execution_count": 115,
   "metadata": {
    "collapsed": true
   },
   "outputs": [],
   "source": [
    "#pulling the actual results out of the db\n",
    "\n",
    "database = \"c:/Users/tommc/Documents/University/CSProject/db/baseball.db\"\n",
    "\n",
    "#This block creates a dataframe with the important (un-normalised) stats along with both IDs, with the purpose of later merging\n",
    "conn = sqlite3.connect(database)\n",
    "\n",
    "#cc is now what we use to pass commands to the database\n",
    "cc = conn.cursor()\n",
    "\n",
    "#4 things from \n",
    "cc.execute(\"SELECT HOME_Win FROM Game2017;\")\n",
    "\n",
    "#fetchall: https://docs.python.org/2/library/sqlite3.html#sqlite3.Cursor.fetchall\n",
    "testthisData = cc.fetchall()\n",
    "\n",
    "testthisDataArray = np.array(testthisData)"
   ]
  },
  {
   "cell_type": "code",
   "execution_count": 133,
   "metadata": {},
   "outputs": [],
   "source": [
    "#Get the data in as floats\n",
    "testthisDataFloat = testthisDataArray.astype(np.float)\n",
    "outputResults2017Float = outputResults2017.astype(np.float)\n",
    "#flatten from (2430, 1) to (2430,) to allow for comparison\n",
    "testthisDataFlatten = testthisDataFloat.flatten()\n",
    "outputResults2017Flatten = outputResults2017Float.flatten()"
   ]
  },
  {
   "cell_type": "code",
   "execution_count": 134,
   "metadata": {},
   "outputs": [
    {
     "data": {
      "text/plain": [
       "{False: 1160, True: 1270}"
      ]
     },
     "execution_count": 134,
     "metadata": {},
     "output_type": "execute_result"
    }
   ],
   "source": [
    "boolTableofComp = np.equal(testthisDataFlatten, outputResults2017Flatten)\n",
    "\n",
    "unique, counts = np.unique(boolTableofComp, return_counts=True)\n",
    "dict(zip(unique, counts))"
   ]
  },
  {
   "cell_type": "markdown",
   "metadata": {},
   "source": [
    "# We have an answer!"
   ]
  },
  {
   "cell_type": "code",
   "execution_count": 135,
   "metadata": {},
   "outputs": [
    {
     "data": {
      "text/plain": [
       "0.522633744855967"
      ]
     },
     "execution_count": 135,
     "metadata": {},
     "output_type": "execute_result"
    }
   ],
   "source": [
    "finalScorePercent = 1270/(1160+1270)\n",
    "finalScorePercent"
   ]
  },
  {
   "cell_type": "markdown",
   "metadata": {},
   "source": [
    "## Pity the answer is rubbish"
   ]
  },
  {
   "cell_type": "code",
   "execution_count": null,
   "metadata": {
    "collapsed": true
   },
   "outputs": [],
   "source": []
  }
 ],
 "metadata": {
  "kernelspec": {
   "display_name": "Python 3",
   "language": "python",
   "name": "python3"
  },
  "language_info": {
   "codemirror_mode": {
    "name": "ipython",
    "version": 3
   },
   "file_extension": ".py",
   "mimetype": "text/x-python",
   "name": "python",
   "nbconvert_exporter": "python",
   "pygments_lexer": "ipython3",
   "version": "3.6.3"
  }
 },
 "nbformat": 4,
 "nbformat_minor": 2
}
